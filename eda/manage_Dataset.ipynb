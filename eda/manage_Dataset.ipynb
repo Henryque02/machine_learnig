{
 "cells": [
  {
   "cell_type": "markdown",
   "id": "1c3a4579",
   "metadata": {},
   "source": [
    "## Criar DataFrame com base no DataSet"
   ]
  },
  {
   "cell_type": "code",
   "execution_count": null,
   "id": "99c9c6d4",
   "metadata": {},
   "outputs": [],
   "source": [
    "import pandas as pd"
   ]
  },
  {
   "cell_type": "code",
   "execution_count": null,
   "id": "4c4465ac",
   "metadata": {},
   "outputs": [],
   "source": [
    "# Carregar DataFrame de clientes (Customers)\n",
    "df_customers = pd.read_csv('./datasets/churn_customers.csv')\n",
    "\n",
    "# Mostra 5 primeiros registros\n",
    "df_customers.head(5)\n",
    "\n",
    "# Mostra 5 ultimos registros\n",
    "df_customers.tail(5)\n",
    "\n",
    "# Mostrar estrutura / schema do DataFrame\n",
    "df_customers.info()"
   ]
  },
  {
   "cell_type": "markdown",
   "id": "b8cc1742",
   "metadata": {},
   "source": [
    "## Transformação de dados"
   ]
  },
  {
   "cell_type": "code",
   "execution_count": null,
   "id": "9d97110b",
   "metadata": {},
   "outputs": [],
   "source": [
    "# Transformar coluna TotalCharges de String para Float - astype\n",
    "df_contracts.TotalCharges = df_contracts.TotalCharges.astype(float)\n",
    "\n",
    "# Transformar coluna TotalCharges de String para Float - to_numeric\n",
    "df_contracts.TotalCharges = pd.to_numeric(df_contracts.TotalCharges)\n",
    "\n",
    "# Transformar coluna TotalCharges de String para Float - to_numeric com coerce\n",
    "df_contracts.TotalCharges = pd.to_numeric(df_contracts.TotalCharges, errors='coerce')"
   ]
  },
  {
   "cell_type": "markdown",
   "id": "bd06e24d",
   "metadata": {},
   "source": [
    "## Renomear colunas"
   ]
  },
  {
   "cell_type": "code",
   "execution_count": null,
   "id": "593f73a7",
   "metadata": {},
   "outputs": [],
   "source": [
    "# Renomear coluna no DataFrame, usando rename e dicionário\n",
    "df_customers.rename(columns={'SeniorCitizen': 'Above65yo'})\n",
    "\n",
    "# Criar um DataFrame novo com base nas colunas renomeadas\n",
    "df_customers_renamed = df_customers.rename(columns={'SeniorCitizen': 'Above65yo'})\n",
    "\n",
    "# Aplicar o resultado do rename no próprio DataFrame\n",
    "df_customers.rename(columns={'SeniorCitizen': 'Above65yo'}, inplace=True)\n",
    "\n",
    "# Rename usando Lista - Modificar todos os nomes de colunas\n",
    "df_customers.columns = ['IDCliente', 'Genero', 'Mais65anos', 'TemParceiro', 'TemDependentes']"
   ]
  },
  {
   "cell_type": "markdown",
   "id": "46807376",
   "metadata": {},
   "source": [
    "## Unificar DataFrames de Customers, Sevices e Contracts"
   ]
  },
  {
   "cell_type": "code",
   "execution_count": null,
   "id": "d6b8a478",
   "metadata": {},
   "outputs": [],
   "source": [
    "# Contar quantidade de registros por DataFrame\n",
    "len(df_customers)"
   ]
  },
  {
   "cell_type": "code",
   "execution_count": null,
   "id": "82c523b5",
   "metadata": {},
   "outputs": [],
   "source": [
    "# Renomear colunas\n",
    "df_services.rename(columns={'customerID': 'IDCliente'}, inplace=True)\n",
    "\n",
    "# Unificar DataFrames de Customers com Sevices, criando um terceiro DataFrame\n",
    "df_temp = df_customers.merge(df_services, on=['IDCliente'])\n",
    "\n",
    "# Unificar df_temp com Contracts, usando colunas de junção com nomes distintos\n",
    "df_churn_temp = df_temp.merge(df_contracts, left_on=['IDCliente'], right_on=['customerID'])\n",
    "\n",
    "# Unificar os três DataFrames ao mesmo tempo, com colunas com nomes diferentes\n",
    "df_churn = df_customers.merge(df_services, on=['IDCliente']).merge(df_contracts,left_on=['IDCliente'], right_on=['customerID'])\n",
    "\n",
    "# Removendo coluna de um DataFrame, axis (0 = linha e 1 = coluna)\n",
    "df_churn.drop(['customerID'], axis=1, inplace=True)"
   ]
  },
  {
   "cell_type": "markdown",
   "id": "65973e25",
   "metadata": {},
   "source": [
    "## Detecção de Valores ausentes"
   ]
  },
  {
   "cell_type": "code",
   "execution_count": null,
   "id": "89bcaba3",
   "metadata": {},
   "outputs": [],
   "source": [
    "# Detectar valores ausentes em todas as colunas de um DataFrame\n",
    "df_churn.isna().sum()\n",
    "\n",
    "# Detectar valores ausentes em uma coluna\n",
    "df_churn.TotalCharges.isna().sum()\n",
    "\n",
    "# quantas linhas tem pelo menos 1 coluna com valor ausente\n",
    "df_churn[df_churn.isna().any(axis=1)]\n",
    "\n",
    "# Quantas colunas tem pelo menos 1 valor ausente\n",
    "df_churn.isna().any(axis=0).sum()"
   ]
  },
  {
   "cell_type": "markdown",
   "id": "cf2791ee",
   "metadata": {},
   "source": [
    "## Remover valores ausentes"
   ]
  },
  {
   "cell_type": "code",
   "execution_count": null,
   "id": "2e0fd913",
   "metadata": {},
   "outputs": [],
   "source": [
    "# Remover de forma direta e específica a coluna que possui valores ausentes\n",
    "df_churn.drop(columns=['TotalCharges'], axis=1)\n",
    "\n",
    "# Remover colunas com valores ausentes\n",
    "df_churn.dropna(axis=1)\n",
    "\n",
    "# Remover colunas onde todos os valores ausentes\n",
    "df_churn.dropna(axis=1, how='all')\n",
    "\n",
    "# Remover linhas com valores ausentes\n",
    "df_churn.dropna(axis=0)\n",
    "\n",
    "# Remover linhas com todos os valores ausentes\n",
    "df_churn.dropna(axis=0, how='all')"
   ]
  },
  {
   "cell_type": "markdown",
   "id": "c29f67e5",
   "metadata": {},
   "source": [
    "## Imputação de valores ausentes"
   ]
  },
  {
   "cell_type": "code",
   "execution_count": null,
   "id": "e0917a1f",
   "metadata": {},
   "outputs": [],
   "source": [
    "# Preencher todos os valores ausentes com 0\n",
    "df_churn.fillna(0)\n",
    "\n",
    "# Preencher valores padrão conforme a coluna\n",
    "df_churn.fillna(value={'TotalCharges': 0, 'Genero': 'Não Declarado'})\n",
    "\n",
    "# Preencher todos os valores ausentes com a média\n",
    "media_TotalCharges = df_churn.TotalCharges.mean()\n",
    "\n",
    "df_churn.fillna(value={'TotalCharges': media_TotalCharges})"
   ]
  },
  {
   "cell_type": "markdown",
   "id": "3bcf86e1",
   "metadata": {},
   "source": [
    "## Análise Univariada"
   ]
  },
  {
   "cell_type": "code",
   "execution_count": null,
   "id": "69ac8f36",
   "metadata": {},
   "outputs": [],
   "source": [
    "# Contar clientes usando a variável churn como referência\n",
    "df_churn.Churn.value_counts()\n",
    "\n",
    "# Como identificar valores possíveis (únicos) numa variável do DataFrame\n",
    "df_churn.Churn.unique()\n",
    "\n",
    "# Como é a distribuição de Clientes (%) que abandonaram ou continuam ativos\n",
    "df_churn.Churn.value_counts(normalize=True)\n",
    "\n",
    "# plot ditribuição Churn (quantidade)\n",
    "ax = df_churn.Churn.value_counts().plot.bar()\n",
    "\n",
    "ax.bar_label(ax.containers[0])\n",
    "\n",
    "# plot ditribuição Churn (percentual)\n",
    "ax = df_churn.Churn.value_counts(normalize=True).plot.bar()\n",
    "\n",
    "ax.bar_label(ax.containers[0])\n",
    "\n",
    "# Quais são os tipos de contrato\n",
    "df_churn.Contract.unique()\n",
    "\n",
    "# plot ditribuição Contract (quantidade)\n",
    "ax = df_churn.Contract.value_counts().plot.bar()\n",
    "\n",
    "ax.bar_label(ax.containers[0])\n",
    "\n",
    "# plot ditribuição Contract (percentual)\n",
    "ax = df_churn.Contract.value_counts(normalize=True).plot.bar()\n",
    "\n",
    "ax.bar_label(ax.containers[0])\n",
    "\n",
    "# Histograma do Tempo de Contrato\n",
    "df_churn.tenure.plot.hist()\n",
    "\n",
    "# Histograma do Monthly Charges\n",
    "df_churn.MonthlyCharges.plot.hist()\n",
    "\n",
    "# Medidas de Posição - Média Tempo de Contrato\n",
    "df_churn.tenure.mean()\n",
    "\n",
    "# Medidas de Posição - Mediana Tempo de Contrato\n",
    "df_churn.tenure.median()\n",
    "\n",
    "# Medidas de Posição - moda tempo de Contrato\n",
    "df_churn.tenure.mode()\n",
    "\n",
    "# Medidas de Dispersão - desvido padrão tempo de contrato\n",
    "df_churn.tenure.std()\n",
    "\n",
    "# Medidas de Dispersão - coeficiente de variação tempo de contrato\n",
    "df_churn.tenure.std()/df_churn.tenure.mean()*100\n",
    "\n",
    "# Quantos clientes possuem 1 mês de contrato - filtro\n",
    "len(df_churn[(df_churn.tenure==1)])\n",
    "\n",
    "# quanto os clientes de 1 mês representam percentualmente\n",
    "len(df_churn[(df_churn.tenure==1)]) / len(df_churn)*100\n",
    "\n",
    "# quantos clientes possuem entre 1 e 6 meses de contrato\n",
    "len(df_churn[(df_churn.Genero=='Male') & (df_churn.tenure<=6)])\n",
    "\n",
    "# Apresentar a quantidade de clientes por tempo de contrato - agrupamento com sumarização\n",
    "df_churn.groupby(['tenure'])['tenure'].count().sort_values()\n",
    "\n",
    "# Apresentar a quantidade de clientes por tempo de contrato - agrupamento com sumarização - Em um plot\n",
    "df_churn.groupby(['tenure'])['tenure'].count().sort_values().plot.barh(figsize = (20,20))"
   ]
  },
  {
   "cell_type": "markdown",
   "id": "dd21e08e",
   "metadata": {},
   "source": [
    "## Análise bivariada"
   ]
  },
  {
   "cell_type": "code",
   "execution_count": null,
   "id": "d595c043",
   "metadata": {},
   "outputs": [],
   "source": [
    "# hipótese: Clientes com Contrato do TIpo mensal são mai spropensos ao Churn\n",
    "# Construir Tabela de Contingência entre Tipo de Contrato e Churn\n",
    "pd.crosstab(df_churn.Churn, df_churn.Contract, margins=True, margins_name='Total')\n",
    "\n",
    "# Construir Tabela de Contingência entre Tipo de Contrato e Churn - proporção\n",
    "pd.crosstab(df_churn.Churn, df_churn.Contract, normalize='index',margins=True, margins_name='Total')\n",
    "\n"
   ]
  },
  {
   "cell_type": "code",
   "execution_count": null,
   "id": "1f9cbf40",
   "metadata": {},
   "outputs": [],
   "source": [
    "# Avaliar a correlação entre duas variáveis categóricas (qualitativas)\n",
    "\n",
    "# Executar um teste de hipótese chamado Chi-Square ou Qui-Quadrado de Pearson\n",
    "# Em um teste de hipótese, duas hipóteses são formuladas:\n",
    "# H0 (Hipótese Nula): as duas variáveis são independentes\n",
    "# H1 (Hipótese Complementar): as duas variáveis não são independentes\n",
    "\n",
    "# O teste serve para confirmar ou recusar a hipótese nula\n",
    "# Quando a probabilidade de observarmos H0 é inferior a 0.05 (p-value), \n",
    "# recusamos a hipótese nula e seguimos com a complementar"
   ]
  },
  {
   "cell_type": "code",
   "execution_count": null,
   "id": "d74ef6f7",
   "metadata": {},
   "outputs": [],
   "source": [
    "# Gerar um DF da crosstab (sem totais)\n",
    "\n",
    "df_crosstab_churn_contract = pd.crosstab(df_churn.Churn, df_churn.Contract)"
   ]
  },
  {
   "cell_type": "code",
   "execution_count": null,
   "id": "06b93a49",
   "metadata": {},
   "outputs": [],
   "source": [
    "# Calcular os Scores e P-Values\n",
    "from scipy.stats import chi2_contingency"
   ]
  },
  {
   "cell_type": "code",
   "execution_count": null,
   "id": "ef36d2db",
   "metadata": {},
   "outputs": [],
   "source": [
    "chi_scores_churn_contract = chi2_contingency(df_crosstab_churn_contract)"
   ]
  },
  {
   "cell_type": "code",
   "execution_count": null,
   "id": "16a46243",
   "metadata": {},
   "outputs": [],
   "source": [
    "chi_scores_churn_contract"
   ]
  },
  {
   "cell_type": "code",
   "execution_count": null,
   "id": "c868e330",
   "metadata": {},
   "outputs": [],
   "source": [
    "scores_churn_contract = pd.Series(chi_scores_churn_contract[0])"
   ]
  },
  {
   "cell_type": "code",
   "execution_count": null,
   "id": "5e6a9dbc",
   "metadata": {},
   "outputs": [],
   "source": [
    "pvalues_churn_contract = pd.Series(chi_scores_churn_contract[1])"
   ]
  },
  {
   "cell_type": "code",
   "execution_count": null,
   "id": "6d0ba05c",
   "metadata": {},
   "outputs": [],
   "source": [
    "# Apresentar numeros com decimais sem notação científica\n",
    "pd.set_option('display.float_format', lambda x:'%15f' % x)"
   ]
  },
  {
   "cell_type": "code",
   "execution_count": null,
   "id": "8cfee871",
   "metadata": {},
   "outputs": [],
   "source": [
    "# Criar Dataframe com os resultados\n",
    "df_chiscores_churn_contract = pd.DataFrame({'Qui2': scores_churn_contract, 'p-value': pvalues_churn_contract})"
   ]
  },
  {
   "cell_type": "code",
   "execution_count": null,
   "id": "bb8b2bcd",
   "metadata": {},
   "outputs": [],
   "source": [
    "# Analisar Scores e P-Values\n",
    "df_chiscores_churn_contract"
   ]
  },
  {
   "cell_type": "code",
   "execution_count": null,
   "id": "dc0a0a17",
   "metadata": {},
   "outputs": [],
   "source": [
    "# Criar coluna nova\n",
    "df_churn['TempoMenor6Meses'] = np.where(df_churn.tenure<6, 'Yes', 'No')"
   ]
  },
  {
   "cell_type": "code",
   "execution_count": null,
   "id": "3e132b83",
   "metadata": {},
   "outputs": [],
   "source": [
    "# Gerar um DF da crosstab (sem totais)\n",
    "df_crosstab_churn_tenure = pd.crosstab(df_churn.Churn, df_churn.TempoMenor6Meses)"
   ]
  },
  {
   "cell_type": "code",
   "execution_count": null,
   "id": "f42d2fb9",
   "metadata": {},
   "outputs": [],
   "source": [
    "# Calcular os Scores\n",
    "chi_scores_churn_tenure = chi2_contingency(df_crosstab_churn_tenure)"
   ]
  },
  {
   "cell_type": "code",
   "execution_count": null,
   "id": "34e3fcab",
   "metadata": {},
   "outputs": [],
   "source": [
    "scores_churn_tenure= pd.Series(chi_scores_churn_tenure[0])\n",
    "pvalues_churn_tenure = pd.Series(chi_scores_churn_tenure[1])"
   ]
  },
  {
   "cell_type": "code",
   "execution_count": null,
   "id": "f478a600",
   "metadata": {},
   "outputs": [],
   "source": [
    "# Criar DataFrame com resultados\n",
    "df_chiscores_churn_tenure = pd.DataFrame({'Qui2': scores_churn_tenure, 'p-value': pvalues_churn_tenure})"
   ]
  },
  {
   "cell_type": "code",
   "execution_count": null,
   "id": "431ce7a4",
   "metadata": {},
   "outputs": [],
   "source": [
    "# Análisar os resultados\n",
    "df_chiscores_churn_tenure"
   ]
  },
  {
   "cell_type": "code",
   "execution_count": null,
   "id": "43f9fae4",
   "metadata": {},
   "outputs": [],
   "source": [
    "# Correlação entre 2 variáveis numéricas\n",
    "# Tenure com ToalCharges\n",
    "# A intuição é que quanto mais tempo de contrato maior o valor pago\n",
    "# Correlação entre 2 variáveis numéricas - Pearson\n",
    "df_churn.tenure.corr(df_churn.TotalCharges)"
   ]
  },
  {
   "cell_type": "code",
   "execution_count": null,
   "id": "987ba96c",
   "metadata": {},
   "outputs": [],
   "source": [
    "# Correlação entre 2 variáveis numéricas - Spearman\n",
    "df_churn.tenure.corr(df_churn.TotalCharges, method='spearman')"
   ]
  },
  {
   "cell_type": "code",
   "execution_count": null,
   "id": "bbce7ff0",
   "metadata": {},
   "outputs": [],
   "source": [
    "# Apresentar Plot Scatter entre Tenure e TotalCharges\n",
    "df_churn.plot.scatter(x='tenure',y='TotalCharges')"
   ]
  }
 ],
 "metadata": {
  "language_info": {
   "name": "python"
  }
 },
 "nbformat": 4,
 "nbformat_minor": 5
}
